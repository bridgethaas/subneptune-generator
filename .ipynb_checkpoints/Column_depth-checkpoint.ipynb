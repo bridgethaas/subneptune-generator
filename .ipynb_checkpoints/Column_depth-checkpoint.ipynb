{
 "cells": [
  {
   "cell_type": "code",
   "execution_count": 1,
   "metadata": {},
   "outputs": [
    {
     "name": "stdout",
     "output_type": "stream",
     "text": [
      "[ 0.02577286]\n",
      "[ 0.02577286]\n",
      "[ 0.02577286]\n",
      "[ 0.02521782]\n",
      "[ 0.02628328]\n",
      "[ 0.03997522]\n"
     ]
    },
    {
     "name": "stderr",
     "output_type": "stream",
     "text": [
      "/Library/Frameworks/Python.framework/Versions/3.6/lib/python3.6/site-packages/scipy/interpolate/_fitpack_impl.py:975: RuntimeWarning: No more knots can be added because the number of B-spline\n",
      "coefficients already exceeds the number of data points m.\n",
      "Probable causes: either s or m too small. (fp>s)\n",
      "\tkx,ky=1,1 nx,ny=57,22 m=1060 fp=0.356815 s=0.000000\n",
      "  warnings.warn(RuntimeWarning(_iermess2[ierm][0] + _mess))\n"
     ]
    }
   ],
   "source": [
    "import numpy as np\n",
    "import os\n",
    "import scipy\n",
    "from scipy import loadtxt, optimize\n",
    "import sys\n",
    "from scipy import interpolate\n",
    "\n",
    "\n",
    "Temp = 1000\n",
    "Pressure = 1e6\n",
    "\n",
    "T, P, k_p = loadtxt('OpacityTableSolarMetal.txt' ,unpack=True, skiprows =38, usecols=[0,1,12])\n",
    "opacity_function = interpolate.interp2d(T,P,k_p)\n",
    "\n",
    "column_depth = 2 / (opacity_function(2000, 1e11))\n",
    "print (column_depth)\n",
    "\n",
    "column_depth = 2 / (opacity_function(2000, 1e10))\n",
    "print (column_depth)\n",
    "\n",
    "column_depth = 2 / (opacity_function(2000, 1e9))\n",
    "print (column_depth)\n",
    "\n",
    "column_depth = 2 / (opacity_function(2000, 1e8))\n",
    "print (column_depth)\n",
    "\n",
    "column_depth = 2 / (opacity_function(2000, 1e7))\n",
    "print (column_depth)\n",
    "\n",
    "column_depth = 2 / (opacity_function(2000, 1e6))\n",
    "print (column_depth)"
   ]
  },
  {
   "cell_type": "code",
   "execution_count": null,
   "metadata": {},
   "outputs": [],
   "source": []
  },
  {
   "cell_type": "code",
   "execution_count": null,
   "metadata": {},
   "outputs": [],
   "source": []
  }
 ],
 "metadata": {
  "kernelspec": {
   "display_name": "Python 3",
   "language": "python",
   "name": "python3"
  },
  "language_info": {
   "codemirror_mode": {
    "name": "ipython",
    "version": 3
   },
   "file_extension": ".py",
   "mimetype": "text/x-python",
   "name": "python",
   "nbconvert_exporter": "python",
   "pygments_lexer": "ipython3",
   "version": "3.6.2"
  }
 },
 "nbformat": 4,
 "nbformat_minor": 2
}
