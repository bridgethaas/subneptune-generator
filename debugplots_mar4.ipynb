{
 "cells": [
  {
   "cell_type": "code",
   "execution_count": 1,
   "metadata": {},
   "outputs": [],
   "source": [
    "import numpy as np\n",
    "import matplotlib.pyplot as plt\n",
    "import matplotlib.patches as patches\n",
    "import mesa_reader as mr"
   ]
  },
  {
   "cell_type": "code",
   "execution_count": 2,
   "metadata": {},
   "outputs": [],
   "source": [
    "mearth = 5.97e27\n",
    "msun = 1.9892e33\n",
    "rearth = 6.371008e8\n",
    "rsun = 6.9598e10\n",
    "rfrac = rsun/rearth\n",
    "mfrac = msun/mearth"
   ]
  },
  {
   "cell_type": "code",
   "execution_count": 15,
   "metadata": {},
   "outputs": [],
   "source": [
    "def formatstring(myfloat):\n",
    "    return '%.5f'%myfloat"
   ]
  },
  {
   "cell_type": "code",
   "execution_count": 29,
   "metadata": {},
   "outputs": [],
   "source": [
    "mpList = list(np.linspace(7.0,8.0,11))\n",
    "for i, m in enumerate(mpList):\n",
    "    mpList[i] = formatstring(m)\n",
    "    \n",
    "fList = list(np.logspace(-4,np.log10(2*(10**-2)),10))\n",
    "for j, f in enumerate(fList):\n",
    "    fList[j] = formatstring(f)\n",
    "    \n",
    "entList = [7.28,7.28,7.29,7.29,7.3,7.3,7.3,7.31,7.31,7.32,7.32]\n",
    "for k, ent in enumerate(entList):\n",
    "    entList[k] = formatstring(ent)"
   ]
  },
  {
   "cell_type": "code",
   "execution_count": 5,
   "metadata": {},
   "outputs": [],
   "source": [
    "def envelope_fraction(history):\n",
    "    return history.envelope_mass/(history.star_mass*msun)\n",
    "\n",
    "def calcX(history):\n",
    "    return history.Hydrogen_Mass / history.envelope_mass\n",
    "\n",
    "def calcY(history):\n",
    "    return history.He4_Mass / history.envelope_mass\n",
    "\n",
    "def calcZ(history):    \n",
    "    return 1 - calcX(history) - calcY(history)\n",
    "\n",
    "def deltaf(history):\n",
    "    initf = history.envelope_mass[0] / (history.star_mass[0] * msun)\n",
    "    finf = history.envelope_mass[-1] / (history.star_mass[-1] * msun)\n",
    "    return finf - initf \n",
    "\n",
    "def deltam(history):\n",
    "    initm = history.star_mass[0] * mfrac\n",
    "    finm = history.star_mass[-1] * mfrac\n",
    "    return finm - initm"
   ]
  },
  {
   "cell_type": "code",
   "execution_count": 97,
   "metadata": {},
   "outputs": [
    {
     "data": {
      "text/plain": [
       "\"masses_old = [] \\nradii_old = [] \\nfs_old = []\\ndeltams_old = []\\ndeltafs_old = []\\nages_old = []\\n\\nfor i, m in enumerate(mpList):\\n    ent = entList[i]\\n    \\n    for j, f in enumerate(fList):\\n        h = mr.MesaData('LOGS/hist_evolve_%s_%s_0.24_0.02_0.03392_%s_0.1.data'%(m,f,ent),file_type='log')\\n        \\n        masses_old.append(h.star_mass*mfrac)\\n        radii_old.append(h.radius*rfrac)\\n        fs_old.append(envelope_fraction(h))\\n        \\n        deltams_old.append(deltam(h))\\n        deltafs_old.append(deltaf(h))\\n        ages_old.append(h.star_age)\""
      ]
     },
     "execution_count": 97,
     "metadata": {},
     "output_type": "execute_result"
    }
   ],
   "source": [
    "'''masses_old = [] \n",
    "radii_old = [] \n",
    "fs_old = []\n",
    "deltams_old = []\n",
    "deltafs_old = []\n",
    "ages_old = []\n",
    "\n",
    "for i, m in enumerate(mpList):\n",
    "    ent = entList[i]\n",
    "    \n",
    "    for j, f in enumerate(fList):\n",
    "        h = mr.MesaData('LOGS/hist_evolve_%s_%s_0.24_0.02_0.03392_%s_0.1.data'%(m,f,ent),file_type='log')\n",
    "        \n",
    "        masses_old.append(h.star_mass*mfrac)\n",
    "        radii_old.append(h.radius*rfrac)\n",
    "        fs_old.append(envelope_fraction(h))\n",
    "        \n",
    "        deltams_old.append(deltam(h))\n",
    "        deltafs_old.append(deltaf(h))\n",
    "        ages_old.append(h.star_age)'''"
   ]
  },
  {
   "cell_type": "code",
   "execution_count": 30,
   "metadata": {},
   "outputs": [
    {
     "name": "stdout",
     "output_type": "stream",
     "text": [
      "['7.00000', '7.10000', '7.20000', '7.30000', '7.40000', '7.50000', '7.60000', '7.70000', '7.80000', '7.90000', '8.00000']\n",
      "['0.00010', '0.00018', '0.00032', '0.00058', '0.00105', '0.00190', '0.00342', '0.00616', '0.01110', '0.02000']\n"
     ]
    }
   ],
   "source": [
    "print(mpList)\n",
    "print(fList)"
   ]
  },
  {
   "cell_type": "code",
   "execution_count": 51,
   "metadata": {},
   "outputs": [],
   "source": [
    "newmpList = [7.0,7.1,7.2]\n",
    "for i, m in enumerate(newmpList):\n",
    "    newmpList[i] = formatstring(m)\n",
    "\n",
    "masses_str = []\n",
    "radii_str = [] \n",
    "fs_str = []\n",
    "deltams_str = []\n",
    "deltafs_str = []\n",
    "ages_str = []\n",
    "\n",
    "for i, m in enumerate(newmpList):\n",
    "    ent = entList[i]\n",
    "    \n",
    "    for j, f in enumerate(fList):\n",
    "        h = mr.MesaData('data/debug_mar4/str3/hist_evolve_%s_%s_0.24000_0.02000_0.03392_%s_0.10000.data'%(m,f,ent),file_type='log')\n",
    "        \n",
    "        masses_str.append(h.star_mass*mfrac)\n",
    "        radii_str.append(h.radius*rfrac)\n",
    "        fs_str.append(envelope_fraction(h))\n",
    "        \n",
    "        deltams_str.append(deltam(h))\n",
    "        deltafs_str.append(deltaf(h))\n",
    "        ages_str.append(h.star_age)"
   ]
  },
  {
   "cell_type": "code",
   "execution_count": 32,
   "metadata": {},
   "outputs": [],
   "source": [
    "masses_exp = []\n",
    "radii_exp = [] \n",
    "fs_exp = []\n",
    "deltams_exp = []\n",
    "deltafs_exp = []\n",
    "ages_exp = []\n",
    "\n",
    "for i, m in enumerate(mpList):\n",
    "    ent = entList[i]\n",
    "    \n",
    "    for j, f in enumerate(fList):\n",
    "        h = mr.MesaData('data/debug_mar4/expstr2/hist_evolve_%s_%s_0.24000_0.02000_0.03392_%s_0.10000.data'%(m,f,ent),file_type='log')\n",
    "        \n",
    "        masses_exp.append(h.star_mass*mfrac)\n",
    "        radii_exp.append(h.radius*rfrac)\n",
    "        fs_exp.append(envelope_fraction(h))\n",
    "        \n",
    "        deltams_exp.append(deltam(h))\n",
    "        deltafs_exp.append(deltaf(h))\n",
    "        ages_exp.append(h.star_age)\n",
    "        "
   ]
  },
  {
   "cell_type": "code",
   "execution_count": 55,
   "metadata": {},
   "outputs": [],
   "source": [
    "masses_d = []\n",
    "radii_d = [] \n",
    "fs_d = []\n",
    "deltams_d = []\n",
    "deltafs_d = []\n",
    "ages_d = []\n",
    "\n",
    "for i, m in enumerate(newmpList):\n",
    "    ent = entList[i]\n",
    "    \n",
    "    for j, f in enumerate(fList):\n",
    "        h = mr.MesaData('data/debug_mar4/double/hist_evolve_%s_%s_0.24000_0.02000_0.03392_%s_0.10000.data'%(m,f,ent),file_type='log')\n",
    "        \n",
    "        masses_d.append(h.star_mass*mfrac)\n",
    "        radii_d.append(h.radius*rfrac)\n",
    "        fs_d.append(envelope_fraction(h))\n",
    "        \n",
    "        deltams_d.append(deltam(h))\n",
    "        deltafs_d.append(deltaf(h))\n",
    "        ages_d.append(h.star_age)"
   ]
  },
  {
   "cell_type": "code",
   "execution_count": 75,
   "metadata": {},
   "outputs": [
    {
     "name": "stdout",
     "output_type": "stream",
     "text": [
      "[362, 325, 306, 344, 312, 282]\n",
      "[362, 325, 306, 344, 312, 285]\n"
     ]
    }
   ],
   "source": [
    "'''indices5gyr_exp = []\n",
    "for i in range(len(ages_exp)):\n",
    "    arrage = np.array(ages_exp[i])\n",
    "    indices5gyr_exp.append(np.argmin((arrage - 5.0e9)**2))\n",
    "\n",
    "print(indices5gyr_exp)\n",
    "\n",
    "indices5gyr_str = []\n",
    "for i in range(len(ages_str)):\n",
    "    arrage = np.array(ages_str[i])\n",
    "    indices5gyr_str.append(np.argmin((arrage - 5.0e9)**2))\n",
    "\n",
    "print(indices5gyr_str)'''"
   ]
  },
  {
   "cell_type": "code",
   "execution_count": 63,
   "metadata": {},
   "outputs": [
    {
     "data": {
      "image/png": "[encoded data removed]",
      "text/plain": [
       "<Figure size 1200x800 with 1 Axes>"
      ]
     },
     "metadata": {
      "needs_background": "light"
     },
     "output_type": "display_data"
    }
   ],
   "source": [
    "fig = plt.figure()\n",
    "ax = plt.gca()\n",
    "\n",
    "for i in range(len(masses_str)):\n",
    "    plt.plot(masses_str[i][-1],radii_str[i][-1],'b.')\n",
    "    plt.plot(masses_exp[i][-1],radii_exp[i][-1],'r.',alpha=1)\n",
    "    plt.plot(masses_d[i][-1],radii_d[i][-1],'g.',alpha=0.25)\n",
    "    plt.plot(2.0888128817112756e-5*mfrac,1.9256609164142409e-2*rfrac,'k.')\n",
    "    \n",
    "fig.set_dpi(200)\n",
    "#ax.set_xlim(6.95, 7.25)\n",
    "#ax.set_ylim(1.6218472596443287, 2.886969765995583)\n",
    "#ax.set_ylim(1.7,2.0)"
   ]
  },
  {
   "cell_type": "code",
   "execution_count": 54,
   "metadata": {
    "scrolled": true
   },
   "outputs": [
    {
     "data": {
      "image/png": "[encoded data removed]",
      "text/plain": [
       "<Figure size 1200x800 with 1 Axes>"
      ]
     },
     "metadata": {
      "needs_background": "light"
     },
     "output_type": "display_data"
    }
   ],
   "source": [
    "fig = plt.figure()\n",
    "ax = plt.gca()\n",
    "\n",
    "for i in range(len(masses_str)):\n",
    "    plt.plot(masses_str[i][-1],ages_str[i][-1],'b.')\n",
    "    plt.plot(masses_exp[i][-1],ages_exp[i][-1],'r.')\n",
    "    \n",
    "fig.set_dpi(200)"
   ]
  },
  {
   "cell_type": "code",
   "execution_count": 37,
   "metadata": {},
   "outputs": [
    {
     "data": {
      "text/plain": [
       "array([7. , 7.1, 7.2])"
      ]
     },
     "execution_count": 37,
     "metadata": {},
     "output_type": "execute_result"
    }
   ],
   "source": [
    "np.linspace(7.0,7.2,3)"
   ]
  },
  {
   "cell_type": "code",
   "execution_count": null,
   "metadata": {},
   "outputs": [],
   "source": []
  }
 ],
 "metadata": {
  "kernelspec": {
   "display_name": "Python 3",
   "language": "python",
   "name": "python3"
  },
  "language_info": {
   "codemirror_mode": {
    "name": "ipython",
    "version": 3
   },
   "file_extension": ".py",
   "mimetype": "text/x-python",
   "name": "python",
   "nbconvert_exporter": "python",
   "pygments_lexer": "ipython3",
   "version": "3.7.5"
  }
 },
 "nbformat": 4,
 "nbformat_minor": 2
}
