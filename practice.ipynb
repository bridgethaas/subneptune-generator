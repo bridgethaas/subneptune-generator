{
 "cells": [
  {
   "cell_type": "code",
   "execution_count": 183,
   "metadata": {},
   "outputs": [],
   "source": [
    "%matplotlib inline\n",
    "import os\n",
    "import numpy as np\n",
    "import mesa_reader as mr\n",
    "import matplotlib.pyplot as plt\n",
    "from scipy import interpolate"
   ]
  },
  {
   "cell_type": "code",
   "execution_count": 19,
   "metadata": {},
   "outputs": [],
   "source": [
    "class Animal(object):\n",
    "    def __repr__(self):\n",
    "        return self.name\n",
    "    \n",
    "    def __init__(self, name, noise):\n",
    "        self.name = name\n",
    "        self.noise = noise\n",
    "        \n",
    "    def speak(self):\n",
    "        print(self.noise)"
   ]
  },
  {
   "cell_type": "code",
   "execution_count": 21,
   "metadata": {},
   "outputs": [],
   "source": [
    "my_animal = Animal('bob', 'hi')\n",
    "your_animal = Animal('Woolhelmina', 'BAAA')"
   ]
  },
  {
   "cell_type": "code",
   "execution_count": 16,
   "metadata": {},
   "outputs": [
    {
     "data": {
      "text/plain": [
       "['__class__',\n",
       " '__delattr__',\n",
       " '__dict__',\n",
       " '__dir__',\n",
       " '__doc__',\n",
       " '__eq__',\n",
       " '__format__',\n",
       " '__ge__',\n",
       " '__getattribute__',\n",
       " '__gt__',\n",
       " '__hash__',\n",
       " '__init__',\n",
       " '__init_subclass__',\n",
       " '__le__',\n",
       " '__lt__',\n",
       " '__module__',\n",
       " '__ne__',\n",
       " '__new__',\n",
       " '__reduce__',\n",
       " '__reduce_ex__',\n",
       " '__repr__',\n",
       " '__setattr__',\n",
       " '__sizeof__',\n",
       " '__str__',\n",
       " '__subclasshook__',\n",
       " '__weakref__',\n",
       " 'name']"
      ]
     },
     "execution_count": 16,
     "metadata": {},
     "output_type": "execute_result"
    }
   ],
   "source": [
    "dir(my_animal)"
   ]
  },
  {
   "cell_type": "code",
   "execution_count": 17,
   "metadata": {},
   "outputs": [
    {
     "name": "stdout",
     "output_type": "stream",
     "text": [
      "bob\n",
      "Woolhelmina\n"
     ]
    }
   ],
   "source": [
    "print(my_animal)\n",
    "print(your_animal)"
   ]
  },
  {
   "cell_type": "code",
   "execution_count": 5,
   "metadata": {},
   "outputs": [
    {
     "data": {
      "text/plain": [
       "'<__main__.Animal object at 0x103c28e10>'"
      ]
     },
     "execution_count": 5,
     "metadata": {},
     "output_type": "execute_result"
    }
   ],
   "source": [
    "my_animal.__repr__()"
   ]
  },
  {
   "cell_type": "code",
   "execution_count": 22,
   "metadata": {},
   "outputs": [
    {
     "name": "stdout",
     "output_type": "stream",
     "text": [
      "[bob, Woolhelmina]\n",
      "hi\n",
      "BAAA\n"
     ]
    }
   ],
   "source": [
    "animallist = [my_animal, your_animal]\n",
    "print(animallist)\n",
    "\n",
    "for animal in animallist:\n",
    "    animal.speak()"
   ]
  },
  {
   "cell_type": "markdown",
   "metadata": {},
   "source": [
    "-----------------------------------------------------------------"
   ]
  },
  {
   "cell_type": "code",
   "execution_count": 74,
   "metadata": {},
   "outputs": [],
   "source": [
    "def formatstring(myfloat):\n",
    "    return '%.5f'%myfloat\n",
    "\n",
    "def envelope_fraction(history):\n",
    "    return history.envelope_mass/(history.star_mass*msun)\n",
    "\n",
    "mearth = 5.97e27\n",
    "msun = 1.9892e33\n",
    "rearth = 6.371008e8\n",
    "rsun = 6.9598e10\n",
    "rfrac = rsun/rearth\n",
    "mfrac = msun/mearth"
   ]
  },
  {
   "cell_type": "code",
   "execution_count": 149,
   "metadata": {},
   "outputs": [],
   "source": [
    "class Planet():\n",
    "    def __repr__(self):\n",
    "        return self.name\n",
    "    \n",
    "    def __init__(\n",
    "        self,\n",
    "        name,\n",
    "        mass, mass_unc,\n",
    "        radius, radius_unc,\n",
    "        datadir,\n",
    "        mpList,\n",
    "        fList,\n",
    "        orbitalList,\n",
    "        entropyList,\n",
    "        **kwargs\n",
    "    ):\n",
    "        self.name = name\n",
    "        self.mass = mass\n",
    "        self.mass_unc = mass_unc\n",
    "        self.radius = radius\n",
    "        self.radius_unc = radius_unc\n",
    "        self.datadir = datadir\n",
    "        self.mpList = mpList\n",
    "        self.fList = fList\n",
    "        self.orbitalList = orbitalList\n",
    "        self.entropyList = entropyList \n",
    "        \n",
    "        if len(kwargs.keys()):\n",
    "            print(kwargs)\n",
    "        \n",
    "        self.fnames = self.format_file_names()\n",
    "        \n",
    "        self.grid_masses, self.grid_radii, self.grid_fs, self.grid_ages = self.load_models(self.fnames)\n",
    "        \n",
    "        \n",
    "    def format_file_names(self,formatter=None):\n",
    "        if formatter is None:\n",
    "            formatter = formatstring\n",
    "        \n",
    "        fnames = []\n",
    "        for i, m in enumerate(self.mpList):\n",
    "            ent = self.entropyList[i]\n",
    "            \n",
    "            for k, orbital in enumerate(self.orbitalList):\n",
    "                for j, f in enumerate(self.fList):\n",
    "                    fname = self.datadir + '/hist_evolve_%s_%s_0.24000_0.02000_%s_%s_0.10000.data'%(\n",
    "                        formatter(m),\n",
    "                        formatter(f),\n",
    "                        formatter(orbital),\n",
    "                        formatter(ent)\n",
    "                    )\n",
    "                    fnames.append(fname)\n",
    "                    \n",
    "        return fnames\n",
    "    \n",
    "    \n",
    "    def load_models(self,fnames,loud=False):\n",
    "        masses = []\n",
    "        radii = []\n",
    "        fs = []\n",
    "        ages = []\n",
    "        \n",
    "        max_len = 0\n",
    "        \n",
    "        for i, fname in enumerate(fnames):\n",
    "            ## TODO validate data from history file for\n",
    "            ##  edge cases that seem to be broken...?\n",
    "            h = mr.MesaData(fname,file_type='log')\n",
    "            if loud:\n",
    "                print(fname)\n",
    "            \n",
    "            masses.append(h.star_mass*mfrac)\n",
    "            radii.append(h.radius*rfrac)\n",
    "            fs.append(envelope_fraction(h))\n",
    "            ages.append(h.star_age)\n",
    "            \n",
    "            if len(h.star_age) > max_len:\n",
    "                max_len = len(h.star_age)\n",
    "        \n",
    "        arrays = [masses, radii, fs, ages]\n",
    "        square_arrays = [np.zeros((len(fnames),max_len))+np.nan for arr in arrays]\n",
    "        for i, arr in enumerate(arrays):\n",
    "            for j, model_arr in enumerate(arr):\n",
    "                this_len = len(model_arr)\n",
    "                square_arrays[i][j,:this_len] = model_arr\n",
    "        \n",
    "        return square_arrays\n",
    "    \n",
    "    \n",
    "        "
   ]
  },
  {
   "cell_type": "code",
   "execution_count": 150,
   "metadata": {},
   "outputs": [
    {
     "name": "stdout",
     "output_type": "stream",
     "text": [
      "data/146b_fine/hist_evolve_5.10000_0.01000_0.24000_0.02000_0.02584_7.20000_0.10000.data\n"
     ]
    }
   ],
   "source": [
    "k2146b = Planet('K2-146b',\n",
    "                5.77, 0.18, \n",
    "                2.04, 0.006, \n",
    "                'data/146b_fine',\n",
    "                mpList=np.arange(5.1, 6.6+0.1, 0.1), \n",
    "                fList=np.arange(0.004,0.02+0.001,0.001),\n",
    "                orbitalList=[0.02584],\n",
    "                entropyList=[7.20, 7.21, 7.21, 7.22, 7.22, 7.22, 7.23, 7.23, \n",
    "                             7.24, 7.24, 7.24, 7.25, 7.25, 7.26, 7.26, 7.26]\n",
    "               )\n",
    "\n",
    "#k2146c = Planet('K2-146c',7.50, 0.23, 2.19, 0.07)"
   ]
  },
  {
   "cell_type": "code",
   "execution_count": 91,
   "metadata": {},
   "outputs": [
    {
     "name": "stdout",
     "output_type": "stream",
     "text": [
      "[[5.09999999 5.09999727 5.09999434 ...        nan        nan        nan]\n",
      " [5.09999999 5.0999967  5.09999323 ...        nan        nan        nan]\n",
      " [5.09999999 5.09999674 5.09999328 ...        nan        nan        nan]\n",
      " ...\n",
      " [6.6        6.59999721 6.59999386 ...        nan        nan        nan]\n",
      " [6.6        6.59999542 6.59998992 ...        nan        nan        nan]\n",
      " [6.6        6.59999707 6.59999356 ...        nan        nan        nan]]\n"
     ]
    }
   ],
   "source": [
    "print(k2146b.grid_masses)"
   ]
  },
  {
   "cell_type": "code",
   "execution_count": 176,
   "metadata": {},
   "outputs": [
    {
     "name": "stdout",
     "output_type": "stream",
     "text": [
      "[[ 0  1  2  3  4  5  6  7  8  9 10 11 12 13 14 15 16 17 18 19 20 21 22 23\n",
      "  24]\n",
      " [25 26 27 28 29 30 31 32 33 34 35 36 37 38 39 40 41 42 43 44 45 46 47 48\n",
      "  49]\n",
      " [50 51 52 53 54 55 56 57 58 59 60 61 62 63 64 65 66 67 68 69 70 71 72 73\n",
      "  74]\n",
      " [75 76 77 78 79 80 81 82 83 84 85 86 87 88 89 90 91 92 93 94 95 96 97 98\n",
      "  99]]\n",
      "----\n",
      "[[24 23 23 24]\n",
      " [49 48 48 49]\n",
      " [74 73 73 74]\n",
      " [99 98 98 99]]\n"
     ]
    }
   ],
   "source": [
    "arr = np.arange(100).reshape(-1,25)\n",
    "print(arr)\n",
    "print('----')\n",
    "print(arr[[0,1,2,3],[-1,-2,-2,-1]])"
   ]
  },
  {
   "cell_type": "code",
   "execution_count": 184,
   "metadata": {},
   "outputs": [],
   "source": [
    "final_indices = np.argmax(np.isnan(k2146b.grid_ages),axis=-1) - 1\n",
    "#np.argmax(k2146b.grid_masses,axis=-1) - np.argmin(k2146b.grid_masses,axis=-1)\n",
    "#print(np.argmax(k2146b.grid_ages,axis=-1))\n",
    "#print(k2146b.grid_masses.shape)\n",
    "\n",
    "final_masses = k2146b.grid_masses[np.arange(k2146b.grid_masses.shape[0]), final_indices]\n",
    "#print(final_masses)\n",
    "#final_ages = k2146b.grid_ages[np.arange(k2146b.grid_ages.shape[0]),final_indices]\n",
    "#print(final_ages)"
   ]
  },
  {
   "cell_type": "code",
   "execution_count": 180,
   "metadata": {},
   "outputs": [
    {
     "data": {
      "text/plain": [
       "\"#print(list(k2146b.grid_ages[6]))\\n#print(np.argmax(k2146b.grid_ages[6]))\\n\\ncount = 0\\nfor i in range(k2146b.grid_ages.shape[0]):\\n    foo = k2146b.grid_ages[i,:]\\n    dts = foo[1:]-foo[:-1]\\n    plt.plot(dts)\\n    if np.any(dts<0):\\n        count+=1\\n    #plt.plot(k2146b.grid_ages[6,1562:],k2146b.grid_masses[6,1562:])\\nprint(count)\\nplt.gca().axhline(0,ls='--',c='r')\\nplt.gcf().set_dpi(250)\""
      ]
     },
     "execution_count": 180,
     "metadata": {},
     "output_type": "execute_result"
    }
   ],
   "source": [
    "'''#print(list(k2146b.grid_ages[6]))\n",
    "#print(np.argmax(k2146b.grid_ages[6]))\n",
    "\n",
    "count = 0\n",
    "for i in range(k2146b.grid_ages.shape[0]):\n",
    "    foo = k2146b.grid_ages[i,:]\n",
    "    dts = foo[1:]-foo[:-1]\n",
    "    plt.plot(dts)\n",
    "    if np.any(dts<0):\n",
    "        count+=1\n",
    "    #plt.plot(k2146b.grid_ages[6,1562:],k2146b.grid_masses[6,1562:])\n",
    "print(count)\n",
    "plt.gca().axhline(0,ls='--',c='r')\n",
    "plt.gcf().set_dpi(250)'''"
   ]
  },
  {
   "cell_type": "code",
   "execution_count": 191,
   "metadata": {},
   "outputs": [
    {
     "name": "stdout",
     "output_type": "stream",
     "text": [
      "1.9369792217745028\n"
     ]
    }
   ],
   "source": [
    "radius_age_interp = interpolate.interp1d(k2146b.grid_ages[0],k2146b.grid_radii[0],kind='linear')\n",
    "print(radius_age_interp(3.0e9))"
   ]
  },
  {
   "cell_type": "code",
   "execution_count": null,
   "metadata": {},
   "outputs": [],
   "source": []
  }
 ],
 "metadata": {
  "kernelspec": {
   "display_name": "Python 3",
   "language": "python",
   "name": "python3"
  },
  "language_info": {
   "codemirror_mode": {
    "name": "ipython",
    "version": 3
   },
   "file_extension": ".py",
   "mimetype": "text/x-python",
   "name": "python",
   "nbconvert_exporter": "python",
   "pygments_lexer": "ipython3",
   "version": "3.7.5"
  }
 },
 "nbformat": 4,
 "nbformat_minor": 2
}
